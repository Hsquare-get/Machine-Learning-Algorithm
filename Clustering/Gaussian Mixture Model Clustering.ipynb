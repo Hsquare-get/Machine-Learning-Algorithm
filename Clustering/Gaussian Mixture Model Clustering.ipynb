{
 "cells": [
  {
   "cell_type": "markdown",
   "id": "b509c206-cdbd-4b50-b27b-770750b86442",
   "metadata": {},
   "source": [
    "# Gaussian Mixture Model Clustering"
   ]
  },
  {
   "cell_type": "code",
   "execution_count": 1,
   "id": "f3db84bd-4782-4b6c-80d4-5ad985f4742f",
   "metadata": {},
   "outputs": [
    {
     "name": "stdout",
     "output_type": "stream",
     "text": [
      "<class 'pandas.core.frame.DataFrame'>\n",
      "RangeIndex: 150 entries, 0 to 149\n",
      "Data columns (total 5 columns):\n",
      " #   Column        Non-Null Count  Dtype  \n",
      "---  ------        --------------  -----  \n",
      " 0   sepal_length  150 non-null    float64\n",
      " 1   sepal_width   150 non-null    float64\n",
      " 2   petal_length  150 non-null    float64\n",
      " 3   petal_width   150 non-null    float64\n",
      " 4   target        150 non-null    int32  \n",
      "dtypes: float64(4), int32(1)\n",
      "memory usage: 5.4 KB\n",
      "None\n"
     ]
    },
    {
     "data": {
      "text/html": [
       "<div>\n",
       "<style scoped>\n",
       "    .dataframe tbody tr th:only-of-type {\n",
       "        vertical-align: middle;\n",
       "    }\n",
       "\n",
       "    .dataframe tbody tr th {\n",
       "        vertical-align: top;\n",
       "    }\n",
       "\n",
       "    .dataframe thead th {\n",
       "        text-align: right;\n",
       "    }\n",
       "</style>\n",
       "<table border=\"1\" class=\"dataframe\">\n",
       "  <thead>\n",
       "    <tr style=\"text-align: right;\">\n",
       "      <th></th>\n",
       "      <th>sepal_length</th>\n",
       "      <th>sepal_width</th>\n",
       "      <th>petal_length</th>\n",
       "      <th>petal_width</th>\n",
       "      <th>target</th>\n",
       "    </tr>\n",
       "  </thead>\n",
       "  <tbody>\n",
       "    <tr>\n",
       "      <th>0</th>\n",
       "      <td>5.1</td>\n",
       "      <td>3.5</td>\n",
       "      <td>1.4</td>\n",
       "      <td>0.2</td>\n",
       "      <td>0</td>\n",
       "    </tr>\n",
       "    <tr>\n",
       "      <th>1</th>\n",
       "      <td>4.9</td>\n",
       "      <td>3.0</td>\n",
       "      <td>1.4</td>\n",
       "      <td>0.2</td>\n",
       "      <td>0</td>\n",
       "    </tr>\n",
       "    <tr>\n",
       "      <th>2</th>\n",
       "      <td>4.7</td>\n",
       "      <td>3.2</td>\n",
       "      <td>1.3</td>\n",
       "      <td>0.2</td>\n",
       "      <td>0</td>\n",
       "    </tr>\n",
       "    <tr>\n",
       "      <th>3</th>\n",
       "      <td>4.6</td>\n",
       "      <td>3.1</td>\n",
       "      <td>1.5</td>\n",
       "      <td>0.2</td>\n",
       "      <td>0</td>\n",
       "    </tr>\n",
       "    <tr>\n",
       "      <th>4</th>\n",
       "      <td>5.0</td>\n",
       "      <td>3.6</td>\n",
       "      <td>1.4</td>\n",
       "      <td>0.2</td>\n",
       "      <td>0</td>\n",
       "    </tr>\n",
       "    <tr>\n",
       "      <th>...</th>\n",
       "      <td>...</td>\n",
       "      <td>...</td>\n",
       "      <td>...</td>\n",
       "      <td>...</td>\n",
       "      <td>...</td>\n",
       "    </tr>\n",
       "    <tr>\n",
       "      <th>145</th>\n",
       "      <td>6.7</td>\n",
       "      <td>3.0</td>\n",
       "      <td>5.2</td>\n",
       "      <td>2.3</td>\n",
       "      <td>2</td>\n",
       "    </tr>\n",
       "    <tr>\n",
       "      <th>146</th>\n",
       "      <td>6.3</td>\n",
       "      <td>2.5</td>\n",
       "      <td>5.0</td>\n",
       "      <td>1.9</td>\n",
       "      <td>2</td>\n",
       "    </tr>\n",
       "    <tr>\n",
       "      <th>147</th>\n",
       "      <td>6.5</td>\n",
       "      <td>3.0</td>\n",
       "      <td>5.2</td>\n",
       "      <td>2.0</td>\n",
       "      <td>2</td>\n",
       "    </tr>\n",
       "    <tr>\n",
       "      <th>148</th>\n",
       "      <td>6.2</td>\n",
       "      <td>3.4</td>\n",
       "      <td>5.4</td>\n",
       "      <td>2.3</td>\n",
       "      <td>2</td>\n",
       "    </tr>\n",
       "    <tr>\n",
       "      <th>149</th>\n",
       "      <td>5.9</td>\n",
       "      <td>3.0</td>\n",
       "      <td>5.1</td>\n",
       "      <td>1.8</td>\n",
       "      <td>2</td>\n",
       "    </tr>\n",
       "  </tbody>\n",
       "</table>\n",
       "<p>150 rows × 5 columns</p>\n",
       "</div>"
      ],
      "text/plain": [
       "     sepal_length  sepal_width  petal_length  petal_width  target\n",
       "0             5.1          3.5           1.4          0.2       0\n",
       "1             4.9          3.0           1.4          0.2       0\n",
       "2             4.7          3.2           1.3          0.2       0\n",
       "3             4.6          3.1           1.5          0.2       0\n",
       "4             5.0          3.6           1.4          0.2       0\n",
       "..            ...          ...           ...          ...     ...\n",
       "145           6.7          3.0           5.2          2.3       2\n",
       "146           6.3          2.5           5.0          1.9       2\n",
       "147           6.5          3.0           5.2          2.0       2\n",
       "148           6.2          3.4           5.4          2.3       2\n",
       "149           5.9          3.0           5.1          1.8       2\n",
       "\n",
       "[150 rows x 5 columns]"
      ]
     },
     "metadata": {},
     "output_type": "display_data"
    }
   ],
   "source": [
    "from sklearn.datasets import load_iris\n",
    "import pandas as pd\n",
    "import numpy as np\n",
    "import matplotlib.pyplot as plt\n",
    "\n",
    "iris = load_iris()\n",
    "feature_names = ['sepal_length', 'sepal_width', 'petal_length', 'petal_width']\n",
    "\n",
    "iris_df = pd.DataFrame(data=iris['data'], columns=feature_names)\n",
    "iris_df['target'] = iris['target']\n",
    "\n",
    "print(iris_df.info())\n",
    "display(iris_df)"
   ]
  },
  {
   "cell_type": "code",
   "execution_count": 6,
   "id": "4487bdd3-8d17-4c9b-bc5c-a95804e3eb3a",
   "metadata": {},
   "outputs": [
    {
     "name": "stdout",
     "output_type": "stream",
     "text": [
      "target  gmm_cluster\n",
      "0       0              50\n",
      "1       2              45\n",
      "        1               5\n",
      "2       1              50\n",
      "Name: gmm_cluster, dtype: int64\n"
     ]
    }
   ],
   "source": [
    "from sklearn.mixture import GaussianMixture\n",
    "\n",
    "gmm_model = GaussianMixture(n_components=3, random_state=0).fit(iris['data'])\n",
    "gmm_cluster_labels = gmm_model.predict(iris['data'])\n",
    "\n",
    "iris_df['gmm_cluster'] = gmm_cluster_labels # 실제 정답 레이블과는 전혀 다른 순서\n",
    "\n",
    "# target 값에 따라서 gmm_cluster 값이 어떻게 매핑되었는지 확인 (실제 정답과 매핑은 아님)\n",
    "iris_result = iris_df.groupby('target')['gmm_cluster'].value_counts()\n",
    "print(iris_result)"
   ]
  },
  {
   "cell_type": "markdown",
   "id": "a78ddf8a-7938-44bf-b86c-b1d3ef65d5fe",
   "metadata": {},
   "source": [
    "## GMM 군집화와 K-Means 군집화 비교"
   ]
  },
  {
   "cell_type": "code",
   "execution_count": 17,
   "id": "d4d06dd5-3580-4faa-a657-2b0df6e9a7d2",
   "metadata": {},
   "outputs": [],
   "source": [
    "def visualize_cluster_plot(clusterobj, df, label_name, isCenter=True):\n",
    "    if isCenter:\n",
    "        centers = clusterobj.cluster_centers_\n",
    "        \n",
    "    unique_labels = np.unique(df[label_name].values)\n",
    "    markers = ['o', 's', '^', 'x', '*']\n",
    "    isNoise = False\n",
    "    \n",
    "    for label in unique_labels:\n",
    "        label_cluster = df[df[label_name] == label]\n",
    "        \n",
    "        # DBSCAN을 위한 처리 로직\n",
    "        if label == -1:\n",
    "            cluster_legend = 'Noise'\n",
    "            isNoise=True\n",
    "        else:\n",
    "            cluster_legend = 'Cluster' + str(label)\n",
    "            \n",
    "        plt.scatter(x=label_cluster['feature1'], y=label_cluster['feature2'], s=70, edgecolor='k', marker=markers[label], label=cluster_legend)\n",
    "        \n",
    "        if isCenter:\n",
    "            center_x_y = centers[label]\n",
    "            plt.scatter(x=center_x_y[0], y=center_x_y[1], s=250, color='white', edgecolor='k', alpha=0.9, marker=markers[label])\n",
    "            plt.scatter(x=center_x_y[0], y=center_x_y[1], s=70, color='k', edgecolor='k', marker=\"$%d$\" % label)\n",
    "            \n",
    "    if isNoise:\n",
    "        legend_loc = 'upper center'\n",
    "    else:\n",
    "        legend_loc = 'upper right'\n",
    "        \n",
    "    plt.legend(loc=legend_loc)"
   ]
  },
  {
   "cell_type": "code",
   "execution_count": 18,
   "id": "a8ff36fb-b504-42bb-ae25-0011baa0a4e9",
   "metadata": {},
   "outputs": [
    {
     "data": {
      "image/png": "[encoded data removed]",
      "text/plain": [
       "<Figure size 432x288 with 1 Axes>"
      ]
     },
     "metadata": {
      "needs_background": "light"
     },
     "output_type": "display_data"
    }
   ],
   "source": [
    "from sklearn.datasets import make_blobs\n",
    "\n",
    "# make_blobs()로 300개의 데이터세트, 3개의 cluster, cluster_std=0.5를 만듬\n",
    "x, y = make_blobs(n_samples=300, n_features=2, centers=3, cluster_std=0.5, random_state=0)\n",
    "\n",
    "# 길게 늘어난 타원형의 데이터세트를 생성하기 위해 변환\n",
    "transformation = [[0.60834549, -0.63667341], [-0.40887718, 0.85253229]]\n",
    "x_aniso = np.dot(x, transformation)\n",
    "\n",
    "# feature 데이터세트와 make_blobs()의 y 결과값을 DataFrame으로 저장\n",
    "cluster_df = pd.DataFrame(data=x_aniso, columns=['feature1', 'feature2'])\n",
    "cluster_df['target'] = y\n",
    "\n",
    "# 생성된 데이터세트를 target 별로 다른 marker로 표시하여 시각화함\n",
    "visualize_cluster_plot(None, cluster_df, 'target', isCenter=False)"
   ]
  },
  {
   "cell_type": "markdown",
   "id": "68556ef3-c541-44d1-95af-74f27805c630",
   "metadata": {},
   "source": [
    "### K-Means Clustering"
   ]
  },
  {
   "cell_type": "code",
   "execution_count": 19,
   "id": "8c1d1710-4d56-42d9-b88d-34de25efb9b4",
   "metadata": {},
   "outputs": [
    {
     "data": {
      "image/png": "[encoded data removed]",
      "text/plain": [
       "<Figure size 432x288 with 1 Axes>"
      ]
     },
     "metadata": {
      "needs_background": "light"
     },
     "output_type": "display_data"
    }
   ],
   "source": [
    "from sklearn.cluster import KMeans\n",
    "\n",
    "# 3개의 Cluster 기반 KMeans를 x_aniso 데이터세트에 적용\n",
    "kmeans_model = KMeans(n_clusters=3, random_state=0)\n",
    "kmeans_label = kmeans_model.fit_predict(x_aniso)\n",
    "cluster_df['kmeans_label'] = kmeans_label\n",
    "\n",
    "visualize_cluster_plot(kmeans_model, cluster_df, 'kmeans_label', isCenter=True)"
   ]
  },
  {
   "cell_type": "markdown",
   "id": "eee0f1b8-7a9e-47ec-aa9c-9e766a15c6e6",
   "metadata": {},
   "source": [
    "### GMM Clustering"
   ]
  },
  {
   "cell_type": "code",
   "execution_count": 20,
   "id": "29f4abfd-b507-4887-99c5-34dd4baa82ab",
   "metadata": {},
   "outputs": [
    {
     "data": {
      "image/png": "[encoded data removed]",
      "text/plain": [
       "<Figure size 432x288 with 1 Axes>"
      ]
     },
     "metadata": {
      "needs_background": "light"
     },
     "output_type": "display_data"
    }
   ],
   "source": [
    "# 3개의 n_componentes기반 GMM을 x_aniso 데이터세트에 적용\n",
    "gmm_model = GaussianMixture(n_components=3, random_state=0)\n",
    "gmm_label = gmm_model.fit_predict(x_aniso)\n",
    "cluster_df['gmm_label'] = gmm_label\n",
    "\n",
    "# GMM은 cluster_centers_ 속성이 없으므로 isCenter를 False로 설정\n",
    "visualize_cluster_plot(gmm_model, cluster_df, 'gmm_label', isCenter=False)"
   ]
  },
  {
   "cell_type": "code",
   "execution_count": 21,
   "id": "8afab1b9-b013-4615-afc0-ed9ec25e52ff",
   "metadata": {},
   "outputs": [
    {
     "name": "stdout",
     "output_type": "stream",
     "text": [
      "target  kmeans_label\n",
      "0       2                73\n",
      "        0                27\n",
      "1       1               100\n",
      "2       0                86\n",
      "        2                14\n",
      "Name: kmeans_label, dtype: int64\n"
     ]
    }
   ],
   "source": [
    "# K-Means Clustering\n",
    "print(cluster_df.groupby('target')['kmeans_label'].value_counts())"
   ]
  },
  {
   "cell_type": "code",
   "execution_count": 22,
   "id": "630ca377-6a58-47ff-865a-fa4d3175dacd",
   "metadata": {},
   "outputs": [
    {
     "name": "stdout",
     "output_type": "stream",
     "text": [
      "target  gmm_label\n",
      "0       2            100\n",
      "1       1            100\n",
      "2       0            100\n",
      "Name: gmm_label, dtype: int64\n"
     ]
    }
   ],
   "source": [
    "# GMM Clustering\n",
    "print(cluster_df.groupby('target')['gmm_label'].value_counts())"
   ]
  },
  {
   "cell_type": "code",
   "execution_count": null,
   "id": "d1945ea4-b1f2-4289-83f7-56b3b2bec6b5",
   "metadata": {},
   "outputs": [],
   "source": []
  }
 ],
 "metadata": {
  "kernelspec": {
   "display_name": "studyenv",
   "language": "python",
   "name": "studyenv"
  },
  "language_info": {
   "codemirror_mode": {
    "name": "ipython",
    "version": 3
   },
   "file_extension": ".py",
   "mimetype": "text/x-python",
   "name": "python",
   "nbconvert_exporter": "python",
   "pygments_lexer": "ipython3",
   "version": "3.8.5"
  }
 },
 "nbformat": 4,
 "nbformat_minor": 5
}
