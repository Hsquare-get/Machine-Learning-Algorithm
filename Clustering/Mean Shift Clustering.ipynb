{
 "cells": [
  {
   "cell_type": "markdown",
   "id": "b78960d1-ac4c-4f20-b98c-553784f8506a",
   "metadata": {},
   "source": [
    "# Mean Shift Clustering\n",
    "- make_blobs()를 이용하여 2개의 feature와 3개의 군집 중심점을 가지는 임의의 데이터 200개를 생성하고 Mean Shift를 이용하여 군집화"
   ]
  },
  {
   "cell_type": "code",
   "execution_count": 29,
   "id": "3be5ee15-d1c8-414b-bc17-9103ee9c429d",
   "metadata": {},
   "outputs": [
    {
     "name": "stdout",
     "output_type": "stream",
     "text": [
      "cluster labels type: [0 1 2 3 4 5 6 7]\n"
     ]
    }
   ],
   "source": [
    "import pandas as pd\n",
    "import numpy as np\n",
    "import matplotlib.pyplot as plt\n",
    "from sklearn.datasets import make_blobs\n",
    "from sklearn.cluster import MeanShift\n",
    "\n",
    "x, y = make_blobs(n_samples=200, n_features=2, centers=3, cluster_std=0.8, random_state=0)\n",
    "\n",
    "meanshift_model = MeanShift(bandwidth=0.9)\n",
    "cluster_labels = meanshift_model.fit_predict(x)\n",
    "print(\"cluster labels type: {}\".format(np.unique(cluster_labels)))"
   ]
  },
  {
   "cell_type": "code",
   "execution_count": 30,
   "id": "4afc6f2e-6cd3-4e36-b421-31d0211a1e3a",
   "metadata": {},
   "outputs": [
    {
     "name": "stdout",
     "output_type": "stream",
     "text": [
      "cluster labels type: [0 1 2]\n"
     ]
    }
   ],
   "source": [
    "# 커널함수의 bandwidth 크기를 1로 증가 후에 군집화\n",
    "meanshift_model = MeanShift(bandwidth=1.0)\n",
    "cluster_labels = meanshift_model.fit_predict(x)\n",
    "print(\"cluster labels type: {}\".format(np.unique(cluster_labels)))"
   ]
  },
  {
   "cell_type": "code",
   "execution_count": 31,
   "id": "9c9c2c59-85f7-40b4-8c58-026a5b9a7a8c",
   "metadata": {},
   "outputs": [
    {
     "name": "stdout",
     "output_type": "stream",
     "text": [
      "best_bandwidth 값: 1.689\n",
      "cluster labels type: [0 1 2]\n"
     ]
    }
   ],
   "source": [
    "from sklearn.cluster import estimate_bandwidth\n",
    "\n",
    "cluster = pd.DataFrame(data=x, columns=['feature1', 'feature2'])\n",
    "cluster['target'] = y\n",
    "\n",
    "# estimate_bandwidth()로 최적의 bandwidth 계산\n",
    "best_bandwidth = estimate_bandwidth(x, quantile=0.25)\n",
    "print(\"best_bandwidth 값: {}\".format(round(best_bandwidth, 3)))\n",
    "\n",
    "meanshift_model = MeanShift(bandwidth=best_bandwidth)\n",
    "cluster_labels = meanshift_model.fit_predict(x)\n",
    "print(\"cluster labels type: {}\".format(np.unique(cluster_labels)))"
   ]
  },
  {
   "cell_type": "code",
   "execution_count": 32,
   "id": "7d4fa4c3-11dd-45ea-a100-ed5f7aeea6fb",
   "metadata": {},
   "outputs": [
    {
     "data": {
      "image/png": "[encoded data removed]",
      "text/plain": [
       "<Figure size 432x288 with 1 Axes>"
      ]
     },
     "metadata": {
      "needs_background": "light"
     },
     "output_type": "display_data"
    }
   ],
   "source": [
    "cluster['meanshift_label'] = cluster_labels\n",
    "centers = meanshift_model.cluster_centers_\n",
    "unique_labels = np.unique(cluster_labels)\n",
    "\n",
    "markers = ['o', 's', '^', 'x', '*']\n",
    "for label in unique_labels:\n",
    "    label_cluster = cluster[cluster['meanshift_label'] == label]\n",
    "    center_x_y = centers[label]\n",
    "    \n",
    "    # 군집별로 다른 marker로 scatter plot\n",
    "    plt.scatter(x=label_cluster['feature1'], y=label_cluster['feature2'], edgecolor='k', marker=markers[label])\n",
    "    \n",
    "    # 군집별 중심 시각화\n",
    "    plt.scatter(x=center_x_y[0], y=center_x_y[1], s=200, color='white', edgecolor='k', alpha=0.9, marker=markers[label])\n",
    "    plt.scatter(x=center_x_y[0], y=center_x_y[1], s=70, color='k', edgecolor='k', marker=\"$%d$\" % label)\n",
    "\n",
    "plt.show()"
   ]
  },
  {
   "cell_type": "code",
   "execution_count": null,
   "id": "16abae08-4144-40e9-8dfa-d20d77a9179d",
   "metadata": {},
   "outputs": [],
   "source": []
  }
 ],
 "metadata": {
  "kernelspec": {
   "display_name": "studyenv",
   "language": "python",
   "name": "studyenv"
  },
  "language_info": {
   "codemirror_mode": {
    "name": "ipython",
    "version": 3
   },
   "file_extension": ".py",
   "mimetype": "text/x-python",
   "name": "python",
   "nbconvert_exporter": "python",
   "pygments_lexer": "ipython3",
   "version": "3.8.5"
  }
 },
 "nbformat": 4,
 "nbformat_minor": 5
}
